{
 "cells": [
  {
   "cell_type": "code",
   "execution_count": 1,
   "metadata": {},
   "outputs": [],
   "source": [
    "%load_ext autoreload\n",
    "%autoreload 2"
   ]
  },
  {
   "cell_type": "code",
   "execution_count": 2,
   "metadata": {},
   "outputs": [
    {
     "name": "stdout",
     "output_type": "stream",
     "text": [
      "C:\\Users\\dallo\\devroot\\advent-of-code-2018\n"
     ]
    }
   ],
   "source": [
    "cd .."
   ]
  },
  {
   "cell_type": "code",
   "execution_count": 11,
   "metadata": {},
   "outputs": [],
   "source": [
    "import pysrc.challenges.day_12_subterranean_sustainability as day12"
   ]
  },
  {
   "cell_type": "code",
   "execution_count": 40,
   "metadata": {},
   "outputs": [
    {
     "data": {
      "text/plain": [
       "\"[Rule(pattern='...##', result=True), Rule(pattern='..#..', result=True), Rule(pattern='.#...', result=True), Rule(pattern='.#.#.', result=True), Rule(pattern='.#.##', result=True), Rule(pattern='.##..', result=True), Rule(pattern='.####', result=True), Rule(pattern='#.#.#', result=True), Rule(pattern='#.###', result=True), Rule(pattern='##.#.', result=True), Rule(pattern='##.##', result=True), Rule(pattern='###..', result=True), Rule(pattern='###.#', result=True), Rule(pattern='####.', result=True)]\""
      ]
     },
     "execution_count": 40,
     "metadata": {},
     "output_type": "execute_result"
    }
   ],
   "source": [
    "result = day12.parse_input(day12.test_input)\n",
    "repr(result['rules'])"
   ]
  }
 ],
 "metadata": {
  "kernelspec": {
   "display_name": "Python 3",
   "language": "python",
   "name": "python3"
  },
  "language_info": {
   "codemirror_mode": {
    "name": "ipython",
    "version": 3
   },
   "file_extension": ".py",
   "mimetype": "text/x-python",
   "name": "python",
   "nbconvert_exporter": "python",
   "pygments_lexer": "ipython3",
   "version": "3.7.2"
  }
 },
 "nbformat": 4,
 "nbformat_minor": 2
}
