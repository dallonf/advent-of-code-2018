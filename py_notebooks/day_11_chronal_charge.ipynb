{
 "cells": [
  {
   "cell_type": "code",
   "execution_count": 1,
   "metadata": {},
   "outputs": [],
   "source": [
    "%load_ext autoreload\n",
    "%autoreload 2"
   ]
  },
  {
   "cell_type": "code",
   "execution_count": 2,
   "metadata": {},
   "outputs": [
    {
     "name": "stdout",
     "output_type": "stream",
     "text": [
      "C:\\Users\\dallo\\devroot\\advent-of-code-2018\n"
     ]
    }
   ],
   "source": [
    "cd .."
   ]
  },
  {
   "cell_type": "code",
   "execution_count": 4,
   "metadata": {},
   "outputs": [],
   "source": [
    "from pysrc.challenges.day_11_chronal_charge import SummedAreaTable, get_power_level, get_best_square_and_size\n",
    "import cProfile"
   ]
  },
  {
   "cell_type": "code",
   "execution_count": 9,
   "metadata": {},
   "outputs": [
    {
     "name": "stdout",
     "output_type": "stream",
     "text": [
      "setting 1, 1 to -2\n",
      "setting 1, 2 to -5\n",
      "setting 2, 1 to -6\n",
      "setting 2, 2 to -7\n",
      "setting 1, 3 to -5\n",
      "setting 3, 1 to -7\n",
      "setting 2, 3 to -1\n",
      "setting 3, 2 to -3\n",
      "setting 3, 3 to 0\n",
      "setting 1, 4 to -4\n",
      "setting 4, 1 to -8\n",
      "setting 2, 4 to 2\n",
      "setting 4, 2 to -3\n",
      "setting 3, 4 to 0\n",
      "setting 4, 3 to -4\n",
      "setting 4, 4 to -2\n",
      "setting 1, 5 to -1\n",
      "setting 5, 1 to -9\n",
      "setting 2, 5 to 9\n",
      "setting 5, 2 to -2\n",
      "setting 3, 5 to 2\n",
      "setting 5, 3 to 1\n",
      "setting 4, 5 to -1\n",
      "setting 5, 4 to 1\n",
      "setting 5, 5 to -2\n",
      "setting 1, 6 to 3\n",
      "setting 6, 1 to -9\n",
      "setting 2, 6 to 8\n",
      "setting 6, 2 to 1\n",
      "setting 3, 6 to -2\n",
      "setting 6, 3 to -1\n",
      "setting 4, 6 to -6\n",
      "setting 6, 4 to -3\n",
      "setting 5, 6 to -6\n",
      "setting 6, 5 to -6\n",
      "setting 6, 6 to -7\n",
      "setting 1, 7 to -2\n",
      "setting 7, 1 to -9\n",
      "setting 2, 7 to 0\n",
      "setting 7, 2 to 4\n",
      "setting 3, 7 to -11\n",
      "setting 7, 3 to -2\n",
      "setting 4, 7 to -14\n",
      "setting 7, 4 to -5\n",
      "setting 5, 7 to -11\n",
      "setting 7, 5 to -6\n",
      "setting 6, 7 to -12\n",
      "setting 7, 6 to -7\n",
      "setting 7, 7 to -19\n",
      "setting 1, 8 to -6\n",
      "setting 8, 1 to -8\n",
      "setting 2, 8 to -6\n",
      "setting 8, 2 to 9\n",
      "setting 3, 8 to -17\n",
      "setting 8, 3 to 0\n",
      "setting 4, 8 to -17\n",
      "setting 8, 4 to -2\n",
      "setting 5, 8 to -19\n",
      "setting 8, 5 to 1\n",
      "setting 6, 8 to -22\n",
      "setting 8, 6 to -3\n",
      "setting 7, 8 to -16\n",
      "setting 8, 7 to -3\n",
      "setting 8, 8 to -8\n",
      "setting 1, 9 to -9\n",
      "setting 9, 1 to -6\n",
      "setting 2, 9 to -9\n",
      "setting 9, 2 to 6\n",
      "setting 3, 9 to -18\n",
      "setting 9, 3 to -4\n",
      "setting 4, 9 to -23\n",
      "setting 9, 4 to -4\n",
      "setting 5, 9 to -28\n",
      "setting 9, 5 to -5\n",
      "setting 6, 9 to -31\n",
      "setting 9, 6 to -9\n",
      "setting 7, 9 to -21\n",
      "setting 9, 7 to -6\n",
      "setting 8, 9 to -27\n",
      "setting 9, 8 to -25\n",
      "setting 9, 9 to -33\n",
      "setting 1, 10 to -10\n",
      "setting 10, 1 to -4\n",
      "setting 2, 10 to -9\n",
      "setting 10, 2 to 4\n",
      "setting 3, 10 to -14\n",
      "setting 10, 3 to -6\n",
      "setting 4, 10 to -22\n",
      "setting 10, 4 to -2\n",
      "setting 5, 10 to -27\n",
      "setting 10, 5 to -5\n",
      "setting 6, 10 to -27\n",
      "setting 10, 6 to -7\n",
      "setting 7, 10 to -21\n",
      "setting 10, 7 to -8\n",
      "setting 8, 10 to -27\n",
      "setting 10, 8 to -27\n",
      "setting 9, 10 to -4\n",
      "setting 10, 9 to -6\n",
      "setting 10, 10 to -4\n",
      "[[-4, -5, -5, -4, -1, 3, -2, -6, -9, -10], [-6, -2, -1, 2, 9, 8, 0, -6, -9, -9], [-7, -3, -7, 0, 2, -2, -11, -17, -18, -14], [-8, -3, -4, 0, -1, -6, -14, -17, -23, -22], [-9, -2, 1, 1, -2, -6, -11, -19, -28, -27], [-9, 1, -1, -3, -6, -2, -12, -22, -31, -27], [-9, 4, -2, -5, -6, -7, -7, -16, -21, -21], [-8, 9, 0, -2, 1, -3, -3, -19, -27, -27], [-6, 6, -4, -4, -5, -9, -6, -25, -8, -4], [-4, 4, -6, -2, -5, -7, -8, -27, -6, -33]]\n"
     ]
    }
   ],
   "source": [
    "table = SummedAreaTable(18)"
   ]
  },
  {
   "cell_type": "code",
   "execution_count": 37,
   "metadata": {},
   "outputs": [
    {
     "name": "stdout",
     "output_type": "stream",
     "text": [
      "         44688254 function calls in 19.447 seconds\n",
      "\n",
      "   Ordered by: standard name\n",
      "\n",
      "   ncalls  tottime  percall  cumtime  percall filename:lineno(function)\n",
      "        1    0.000    0.000   19.447   19.447 <string>:1(<module>)\n",
      "    90000    0.048    0.000    0.048    0.000 day_11_chronal_charge.py:10(get_power_level)\n",
      "        1    0.006    0.006   19.446   19.446 day_11_chronal_charge.py:102(get_best_square_and_size)\n",
      "    90000    3.318    0.000   19.387    0.000 day_11_chronal_charge.py:105(candidate)\n",
      "        1    0.026    0.026   19.413   19.413 day_11_chronal_charge.py:128(<listcomp>)\n",
      "    90000    0.006    0.000    0.006    0.000 day_11_chronal_charge.py:129(<lambda>)\n",
      "        1    0.000    0.000    0.010    0.010 day_11_chronal_charge.py:30(make_grid)\n",
      "        1    0.010    0.010    0.010    0.010 day_11_chronal_charge.py:32(<listcomp>)\n",
      "        1    0.000    0.000    0.000    0.000 day_11_chronal_charge.py:43(__init__)\n",
      " 35462596    7.938    0.000    7.938    0.000 day_11_chronal_charge.py:68(read_from_table)\n",
      "  8865649    8.063    0.000   16.001    0.000 day_11_chronal_charge.py:73(get_sum)\n",
      "        1    0.000    0.000   19.447   19.447 {built-in method builtins.exec}\n",
      "    90001    0.032    0.000    0.038    0.000 {built-in method builtins.max}\n",
      "        1    0.000    0.000    0.000    0.000 {method 'disable' of '_lsprof.Profiler' objects}\n",
      "\n",
      "\n"
     ]
    }
   ],
   "source": [
    "cProfile.run('get_best_square_and_size(18)')"
   ]
  }
 ],
 "metadata": {
  "kernelspec": {
   "display_name": "Python 3",
   "language": "python",
   "name": "python3"
  },
  "language_info": {
   "codemirror_mode": {
    "name": "ipython",
    "version": 3
   },
   "file_extension": ".py",
   "mimetype": "text/x-python",
   "name": "python",
   "nbconvert_exporter": "python",
   "pygments_lexer": "ipython3",
   "version": "3.7.2"
  }
 },
 "nbformat": 4,
 "nbformat_minor": 2
}
