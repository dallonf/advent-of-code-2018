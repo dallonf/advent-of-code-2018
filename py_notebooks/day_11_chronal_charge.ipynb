{
 "cells": [
  {
   "cell_type": "code",
   "execution_count": 1,
   "metadata": {},
   "outputs": [],
   "source": [
    "%load_ext autoreload\n",
    "%autoreload 2"
   ]
  },
  {
   "cell_type": "code",
   "execution_count": 2,
   "metadata": {},
   "outputs": [
    {
     "name": "stdout",
     "output_type": "stream",
     "text": [
      "C:\\Users\\dallo\\devroot\\advent-of-code-2018\n"
     ]
    }
   ],
   "source": [
    "cd .."
   ]
  },
  {
   "cell_type": "code",
   "execution_count": 35,
   "metadata": {},
   "outputs": [],
   "source": [
    "from pysrc.challenges.day_11_chronal_charge import SummedAreaTable, get_power_level, get_best_square_and_size\n",
    "import cProfile"
   ]
  },
  {
   "cell_type": "code",
   "execution_count": 34,
   "metadata": {},
   "outputs": [],
   "source": [
    "table = SummedAreaTable(18)"
   ]
  },
  {
   "cell_type": "code",
   "execution_count": 37,
   "metadata": {},
   "outputs": [
    {
     "name": "stdout",
     "output_type": "stream",
     "text": [
      "         44688254 function calls in 19.447 seconds\n",
      "\n",
      "   Ordered by: standard name\n",
      "\n",
      "   ncalls  tottime  percall  cumtime  percall filename:lineno(function)\n",
      "        1    0.000    0.000   19.447   19.447 <string>:1(<module>)\n",
      "    90000    0.048    0.000    0.048    0.000 day_11_chronal_charge.py:10(get_power_level)\n",
      "        1    0.006    0.006   19.446   19.446 day_11_chronal_charge.py:102(get_best_square_and_size)\n",
      "    90000    3.318    0.000   19.387    0.000 day_11_chronal_charge.py:105(candidate)\n",
      "        1    0.026    0.026   19.413   19.413 day_11_chronal_charge.py:128(<listcomp>)\n",
      "    90000    0.006    0.000    0.006    0.000 day_11_chronal_charge.py:129(<lambda>)\n",
      "        1    0.000    0.000    0.010    0.010 day_11_chronal_charge.py:30(make_grid)\n",
      "        1    0.010    0.010    0.010    0.010 day_11_chronal_charge.py:32(<listcomp>)\n",
      "        1    0.000    0.000    0.000    0.000 day_11_chronal_charge.py:43(__init__)\n",
      " 35462596    7.938    0.000    7.938    0.000 day_11_chronal_charge.py:68(read_from_table)\n",
      "  8865649    8.063    0.000   16.001    0.000 day_11_chronal_charge.py:73(get_sum)\n",
      "        1    0.000    0.000   19.447   19.447 {built-in method builtins.exec}\n",
      "    90001    0.032    0.000    0.038    0.000 {built-in method builtins.max}\n",
      "        1    0.000    0.000    0.000    0.000 {method 'disable' of '_lsprof.Profiler' objects}\n",
      "\n",
      "\n"
     ]
    }
   ],
   "source": [
    "cProfile.run('get_best_square_and_size(18)')"
   ]
  }
 ],
 "metadata": {
  "kernelspec": {
   "display_name": "Python 3",
   "language": "python",
   "name": "python3"
  },
  "language_info": {
   "codemirror_mode": {
    "name": "ipython",
    "version": 3
   },
   "file_extension": ".py",
   "mimetype": "text/x-python",
   "name": "python",
   "nbconvert_exporter": "python",
   "pygments_lexer": "ipython3",
   "version": "3.7.2"
  }
 },
 "nbformat": 4,
 "nbformat_minor": 2
}
