{
 "cells": [
  {
   "cell_type": "code",
   "execution_count": 1,
   "metadata": {},
   "outputs": [],
   "source": [
    "%load_ext autoreload\n",
    "%autoreload 2"
   ]
  },
  {
   "cell_type": "code",
   "execution_count": 2,
   "metadata": {},
   "outputs": [
    {
     "name": "stdout",
     "output_type": "stream",
     "text": [
      "C:\\Users\\dallo\\devroot\\advent-of-code-2018\n"
     ]
    }
   ],
   "source": [
    "cd .."
   ]
  },
  {
   "cell_type": "code",
   "execution_count": 3,
   "metadata": {},
   "outputs": [],
   "source": [
    "import pysrc.challenges.day_13_mine_cart_madness as day13\n",
    "import pysrc.challenges.day_13_mine_cart_madness_test as day13test"
   ]
  },
  {
   "cell_type": "code",
   "execution_count": 18,
   "metadata": {},
   "outputs": [],
   "source": [
    "SAMPLE_TRACK = \"\"\"/----\\\\\n",
    "|    |\n",
    "|    |\n",
    "\\----/\"\"\".splitlines()"
   ]
  },
  {
   "cell_type": "code",
   "execution_count": 34,
   "metadata": {
    "scrolled": true
   },
   "outputs": [
    {
     "data": {
      "text/plain": [
       "{'track': {(0, 0): '/',\n",
       "  (6, 0): '\\\\',\n",
       "  (2, 2): '/',\n",
       "  (5, 2): '+',\n",
       "  (8, 2): '\\\\',\n",
       "  (0, 4): '\\\\',\n",
       "  (3, 4): '+',\n",
       "  (6, 4): '/',\n",
       "  (3, 6): '\\\\',\n",
       "  (9, 6): '/'},\n",
       " 'carts': []}"
      ]
     },
     "execution_count": 34,
     "metadata": {},
     "output_type": "execute_result"
    }
   ],
   "source": [
    "day13.parse_track(day13test.SIMPLE_INTERSECTION)"
   ]
  },
  {
   "cell_type": "code",
   "execution_count": 37,
   "metadata": {},
   "outputs": [
    {
     "data": {
      "text/plain": [
       "{'track': {},\n",
       " 'carts': [Cart(id=0, position=(0, 1), direction='V'),\n",
       "  Cart(id=1, position=(0, 5), direction='^')]}"
      ]
     },
     "execution_count": 37,
     "metadata": {},
     "output_type": "execute_result"
    }
   ],
   "source": [
    "day13.parse_track(day13test.LINEAR_CRASH)"
   ]
  },
  {
   "cell_type": "code",
   "execution_count": 70,
   "metadata": {},
   "outputs": [
    {
     "name": "stdout",
     "output_type": "stream",
     "text": [
      "{'track': {}, 'carts': {0: Cart(id=0, position=(0, 1), direction='V'), 1: Cart(id=1, position=(0, 5), direction='^')}}\n",
      "{'collision': None, 'state': {'track': {}, 'carts': {0: Cart(id=0, position=(0, 2), direction='V'), 1: Cart(id=1, position=(0, 4), direction='^')}}}\n",
      "{'collision': (0, 3), 'state': {'track': {}, 'carts': {0: Cart(id=0, position=(0, 3), direction='V'), 1: Cart(id=1, position=(0, 3), direction='^')}}}\n"
     ]
    }
   ],
   "source": [
    "initial_state = day13.parse_track(day13test.LINEAR_CRASH)\n",
    "print(initial_state)\n",
    "result = day13.simulate_tick(initial_state)\n",
    "print(result)\n",
    "result = day13.simulate_tick(result['state'])\n",
    "print(result)"
   ]
  },
  {
   "cell_type": "code",
   "execution_count": 65,
   "metadata": {},
   "outputs": [
    {
     "data": {
      "text/plain": [
       "True"
      ]
     },
     "execution_count": 65,
     "metadata": {},
     "output_type": "execute_result"
    }
   ],
   "source": [
    "(0, 3) == (0, 3)"
   ]
  },
  {
   "cell_type": "code",
   "execution_count": 82,
   "metadata": {},
   "outputs": [
    {
     "name": "stdout",
     "output_type": "stream",
     "text": [
      "/   v        \n",
      "       /    \\\n",
      "  / +  + \\   \n",
      "             \n",
      "\\ + /  \\ +> /\n",
      "  \\      /   \n"
     ]
    }
   ],
   "source": [
    "state = day13.parse_track(day13test.LONGER_EXAMPLE)\n",
    "for _ in range(2):\n",
    "        result = day13.simulate_tick(state)\n",
    "        state = result['state']\n",
    "        \n",
    "        \n",
    "if result['collision']:\n",
    "    print(\"COLLISION\")\n",
    "day13.print_state(state)"
   ]
  },
  {
   "cell_type": "code",
   "execution_count": 83,
   "metadata": {},
   "outputs": [
    {
     "ename": "SyntaxError",
     "evalue": "invalid syntax (<ipython-input-83-1ca47f978f6f>, line 5)",
     "output_type": "error",
     "traceback": [
      "\u001b[1;36m  File \u001b[1;32m\"<ipython-input-83-1ca47f978f6f>\"\u001b[1;36m, line \u001b[1;32m5\u001b[0m\n\u001b[1;33m    print(\"LAST CART POSITION\": result['last_cart_position'])\u001b[0m\n\u001b[1;37m                              ^\u001b[0m\n\u001b[1;31mSyntaxError\u001b[0m\u001b[1;31m:\u001b[0m invalid syntax\n"
     ]
    }
   ],
   "source": [
    "state = day13.parse_track(day13test.PART_TWO_EXAMPLE)\n",
    "result = simulate_removing_carts(state, max_ticks=0)\n",
    "        \n",
    "if result['last_cart_position']:\n",
    "    print(\"LAST CART POSITION:\", result['last_cart_position'])\n",
    "day13.print_state(result['state'])"
   ]
  }
 ],
 "metadata": {
  "kernelspec": {
   "display_name": "Python 3",
   "language": "python",
   "name": "python3"
  },
  "language_info": {
   "codemirror_mode": {
    "name": "ipython",
    "version": 3
   },
   "file_extension": ".py",
   "mimetype": "text/x-python",
   "name": "python",
   "nbconvert_exporter": "python",
   "pygments_lexer": "ipython3",
   "version": "3.7.2"
  }
 },
 "nbformat": 4,
 "nbformat_minor": 2
}
